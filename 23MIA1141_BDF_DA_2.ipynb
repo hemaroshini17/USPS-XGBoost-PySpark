{
  "nbformat": 4,
  "nbformat_minor": 0,
  "metadata": {
    "colab": {
      "provenance": []
    },
    "kernelspec": {
      "name": "python3",
      "display_name": "Python 3"
    },
    "language_info": {
      "name": "python"
    }
  },
  "cells": [
    {
      "cell_type": "code",
      "execution_count": null,
      "metadata": {
        "id": "w_3Wghv3baf9"
      },
      "outputs": [],
      "source": [
        "# Remove old environment variables (if set)\n",
        "import os\n",
        "os.environ.pop(\"SPARK_HOME\", None)\n",
        "os.environ[\"JAVA_HOME\"] = \"/usr/lib/jvm/java-11-openjdk-amd64\"\n",
        "os.environ[\"PATH\"] = os.environ[\"JAVA_HOME\"] + \"/bin:\" + os.environ[\"PATH\"]\n"
      ]
    },
    {
      "cell_type": "code",
      "source": [
        "!apt-get install -y openjdk-11-jdk\n",
        "!pip install -q pyspark xgboost h5py seaborn\n"
      ],
      "metadata": {
        "colab": {
          "base_uri": "https://localhost:8080/"
        },
        "id": "NOYTzhZfbtDz",
        "outputId": "c0a73dee-d47a-4ce3-a6fd-6f66d169be37"
      },
      "execution_count": null,
      "outputs": [
        {
          "output_type": "stream",
          "name": "stdout",
          "text": [
            "Reading package lists... Done\n",
            "Building dependency tree... Done\n",
            "Reading state information... Done\n",
            "openjdk-11-jdk is already the newest version (11.0.28+6-1ubuntu1~22.04.1).\n",
            "0 upgraded, 0 newly installed, 0 to remove and 46 not upgraded.\n"
          ]
        }
      ]
    },
    {
      "cell_type": "code",
      "source": [
        "!apt-get install -y openjdk-11-jdk\n",
        "!pip install -q pyspark xgboost h5py seaborn\n"
      ],
      "metadata": {
        "colab": {
          "base_uri": "https://localhost:8080/"
        },
        "id": "zj7LX5gjeknV",
        "outputId": "dd6203cf-75cd-4697-86ff-baa45f2c1158"
      },
      "execution_count": null,
      "outputs": [
        {
          "output_type": "stream",
          "name": "stdout",
          "text": [
            "Reading package lists... Done\n",
            "Building dependency tree... Done\n",
            "Reading state information... Done\n",
            "openjdk-11-jdk is already the newest version (11.0.28+6-1ubuntu1~22.04.1).\n",
            "0 upgraded, 0 newly installed, 0 to remove and 46 not upgraded.\n"
          ]
        }
      ]
    },
    {
      "cell_type": "code",
      "source": [
        "from pyspark.sql import SparkSession\n",
        "\n",
        "spark = SparkSession.builder \\\n",
        "    .appName(\"USPS_XGBoost_PySpark\") \\\n",
        "    .master(\"local[*]\") \\\n",
        "    .getOrCreate()\n",
        "\n",
        "print(\"✅ Spark session started:\", spark.version)\n"
      ],
      "metadata": {
        "colab": {
          "base_uri": "https://localhost:8080/"
        },
        "id": "9cVIN45xetZO",
        "outputId": "de14d94a-4ea8-4c28-f201-24803db1862c"
      },
      "execution_count": null,
      "outputs": [
        {
          "output_type": "stream",
          "name": "stdout",
          "text": [
            "✅ Spark session started: 3.5.1\n"
          ]
        }
      ]
    },
    {
      "cell_type": "code",
      "source": [
        "\n",
        "# -----------------------------\n",
        "# 3️⃣ Imports\n",
        "# -----------------------------\n",
        "import h5py, numpy as np, matplotlib.pyplot as plt, seaborn as sns\n",
        "from sklearn.preprocessing import StandardScaler\n",
        "from sklearn.model_selection import train_test_split\n",
        "from sklearn.metrics import accuracy_score, confusion_matrix\n",
        "from google.colab import files\n",
        "import xgboost as xgb\n",
        "from pyspark.sql import SparkSession\n",
        "from pyspark.ml.linalg import Vectors\n",
        "from pyspark.sql import Row\n",
        "\n",
        "# -----------------------------\n",
        "# 4️⃣ Start PySpark Session\n",
        "# -----------------------------\n",
        "spark = SparkSession.builder \\\n",
        "    .appName(\"USPS_XGBoost_PySpark\") \\\n",
        "    .master(\"local[*]\") \\\n",
        "    .getOrCreate()\n",
        "print(\"✅ Spark session started:\", spark.version)\n",
        "\n",
        "# -----------------------------\n",
        "# 5️⃣ Upload USPS .h5\n",
        "# -----------------------------\n",
        "uploaded = files.upload()\n",
        "filename = list(uploaded.keys())[0]\n",
        "print(\"Uploaded file:\", filename)\n",
        "\n",
        "# -----------------------------\n",
        "# 6️⃣ Load USPS data\n",
        "# -----------------------------\n",
        "with h5py.File(filename, 'r') as f:\n",
        "    images_train = np.array(f['train']['data'])\n",
        "    labels_train = np.array(f['train']['target']).flatten()\n",
        "    images_test = np.array(f['test']['data'])\n",
        "    labels_test = np.array(f['test']['target']).flatten()\n",
        "\n",
        "images_all = np.concatenate((images_train, images_test), axis=0)\n",
        "labels_all = np.concatenate((labels_train, labels_test), axis=0)\n",
        "print(\"Combined dataset shape:\", images_all.shape, labels_all.shape)\n",
        "\n",
        "# -----------------------------\n",
        "# 7️⃣ Sample 1000 images\n",
        "# -----------------------------\n",
        "np.random.seed(42)\n",
        "sample_indices = np.random.choice(len(images_all), 1000, replace=False)\n",
        "images_sample = images_all[sample_indices]\n",
        "labels_sample = labels_all[sample_indices]\n",
        "\n",
        "# -----------------------------\n",
        "# 8️⃣ Preprocessing (normalize + standardize)\n",
        "# -----------------------------\n",
        "images_sample_norm = images_sample / 255.0\n",
        "scaler = StandardScaler()\n",
        "images_sample_scaled = scaler.fit_transform(images_sample_norm)\n",
        "\n",
        "# -----------------------------\n",
        "# 9️⃣ Visualize raw vs processed\n",
        "# -----------------------------\n",
        "num_samples = 10\n",
        "plt.figure(figsize=(20,4))\n",
        "for i in range(num_samples):\n",
        "    plt.subplot(2, num_samples, i+1)\n",
        "    plt.imshow(images_sample[i].reshape(16,16), cmap='gray')\n",
        "    plt.title(f\"Raw: {labels_sample[i]}\")\n",
        "    plt.axis('off')\n",
        "\n",
        "    plt.subplot(2, num_samples, i+1+num_samples)\n",
        "    img_proc_vis = (images_sample_scaled[i] - images_sample_scaled[i].min()) / np.ptp(images_sample_scaled[i])\n",
        "    plt.imshow(img_proc_vis.reshape(16,16), cmap='gray')\n",
        "    plt.title(\"Proc\")\n",
        "    plt.axis('off')\n",
        "plt.suptitle(\"USPS Images: Raw vs Processed\")\n",
        "plt.show()\n",
        "\n",
        "# -----------------------------\n",
        "# 🔟 Split into train/test\n",
        "# -----------------------------\n",
        "X_train, X_test, y_train, y_test = train_test_split(\n",
        "    images_sample_scaled, labels_sample, test_size=0.2, random_state=42\n",
        ")\n",
        "print(\"Train shape:\", X_train.shape, y_train.shape)\n",
        "print(\"Test shape:\", X_test.shape, y_test.shape)\n",
        "\n",
        "# -----------------------------\n",
        "# 1️⃣1️⃣ Convert to PySpark DataFrame (optional)\n",
        "# -----------------------------\n",
        "train_rows = [Row(label=int(y), features=Vectors.dense(x)) for x, y in zip(X_train, y_train)]\n",
        "test_rows = [Row(label=int(y), features=Vectors.dense(x)) for x, y in zip(X_test, y_test)]\n",
        "train_df = spark.createDataFrame(train_rows)\n",
        "test_df = spark.createDataFrame(test_rows)\n",
        "print(\"✅ Spark DataFrames created\")\n",
        "train_df.show(5)\n",
        "\n",
        "# -----------------------------\n",
        "# 1️⃣2️⃣ Train XGBoost Classifier\n",
        "# -----------------------------\n",
        "xgb_model = xgb.XGBClassifier(\n",
        "    objective='multi:softmax',\n",
        "    num_class=10,\n",
        "    max_depth=6,\n",
        "    n_estimators=200,\n",
        "    learning_rate=0.1,\n",
        "    use_label_encoder=False,\n",
        "    eval_metric='mlogloss',\n",
        "    random_state=42\n",
        ")\n",
        "xgb_model.fit(X_train, y_train)\n",
        "\n",
        "# -----------------------------\n",
        "# 1️⃣3️⃣ Predict & Evaluate\n",
        "# -----------------------------\n",
        "y_pred = xgb_model.predict(X_test)\n",
        "acc = accuracy_score(y_test, y_pred)\n",
        "print(f\"✅ XGBoost Classification Accuracy: {acc*100:.2f}%\")\n",
        "\n",
        "cm = confusion_matrix(y_test, y_pred, labels=np.arange(10))\n",
        "plt.figure(figsize=(8,6))\n",
        "sns.heatmap(cm, annot=True, fmt='d', cmap='Blues')\n",
        "plt.title(\"Confusion Matrix: XGBoost Predicted vs True Labels\")\n",
        "plt.xlabel(\"Predicted Labels\")\n",
        "plt.ylabel(\"True Labels\")\n",
        "plt.show()\n",
        "\n",
        "# -----------------------------\n",
        "# 1️⃣4️⃣ Save datasets\n",
        "# -----------------------------\n",
        "np.savez(\"usps_sample_raw.npz\", images=images_sample, labels=labels_sample)\n",
        "np.savez(\"usps_sample_processed_xgb.npz\", images=images_sample_scaled, labels=y_pred)\n",
        "print(\"✅ Raw sample saved as 'usps_sample_raw.npz'\")\n",
        "print(\"✅ Processed sample saved as 'usps_sample_processed_xgb.npz'\")\n",
        "\n",
        "# -----------------------------\n",
        "# 1️⃣5️⃣ Show first 20 predictions\n",
        "# -----------------------------\n",
        "print(\"First 20 predicted labels:\", y_pred[:20])\n",
        "print(\"First 20 true labels:     \", y_test[:20])"
      ],
      "metadata": {
        "colab": {
          "base_uri": "https://localhost:8080/",
          "height": 1000
        },
        "id": "A5I3gm4ue4lr",
        "outputId": "916c6b9e-b31c-4fb5-ff81-d84629230a70"
      },
      "execution_count": null,
      "outputs": [
        {
          "output_type": "stream",
          "name": "stdout",
          "text": [
            "✅ Spark session started: 3.5.1\n"
          ]
        },
        {
          "output_type": "display_data",
          "data": {
            "text/plain": [
              "<IPython.core.display.HTML object>"
            ],
            "text/html": [
              "\n",
              "     <input type=\"file\" id=\"files-47268b45-7e85-4103-bf6c-0aa9fb1c3db0\" name=\"files[]\" multiple disabled\n",
              "        style=\"border:none\" />\n",
              "     <output id=\"result-47268b45-7e85-4103-bf6c-0aa9fb1c3db0\">\n",
              "      Upload widget is only available when the cell has been executed in the\n",
              "      current browser session. Please rerun this cell to enable.\n",
              "      </output>\n",
              "      <script>// Copyright 2017 Google LLC\n",
              "//\n",
              "// Licensed under the Apache License, Version 2.0 (the \"License\");\n",
              "// you may not use this file except in compliance with the License.\n",
              "// You may obtain a copy of the License at\n",
              "//\n",
              "//      http://www.apache.org/licenses/LICENSE-2.0\n",
              "//\n",
              "// Unless required by applicable law or agreed to in writing, software\n",
              "// distributed under the License is distributed on an \"AS IS\" BASIS,\n",
              "// WITHOUT WARRANTIES OR CONDITIONS OF ANY KIND, either express or implied.\n",
              "// See the License for the specific language governing permissions and\n",
              "// limitations under the License.\n",
              "\n",
              "/**\n",
              " * @fileoverview Helpers for google.colab Python module.\n",
              " */\n",
              "(function(scope) {\n",
              "function span(text, styleAttributes = {}) {\n",
              "  const element = document.createElement('span');\n",
              "  element.textContent = text;\n",
              "  for (const key of Object.keys(styleAttributes)) {\n",
              "    element.style[key] = styleAttributes[key];\n",
              "  }\n",
              "  return element;\n",
              "}\n",
              "\n",
              "// Max number of bytes which will be uploaded at a time.\n",
              "const MAX_PAYLOAD_SIZE = 100 * 1024;\n",
              "\n",
              "function _uploadFiles(inputId, outputId) {\n",
              "  const steps = uploadFilesStep(inputId, outputId);\n",
              "  const outputElement = document.getElementById(outputId);\n",
              "  // Cache steps on the outputElement to make it available for the next call\n",
              "  // to uploadFilesContinue from Python.\n",
              "  outputElement.steps = steps;\n",
              "\n",
              "  return _uploadFilesContinue(outputId);\n",
              "}\n",
              "\n",
              "// This is roughly an async generator (not supported in the browser yet),\n",
              "// where there are multiple asynchronous steps and the Python side is going\n",
              "// to poll for completion of each step.\n",
              "// This uses a Promise to block the python side on completion of each step,\n",
              "// then passes the result of the previous step as the input to the next step.\n",
              "function _uploadFilesContinue(outputId) {\n",
              "  const outputElement = document.getElementById(outputId);\n",
              "  const steps = outputElement.steps;\n",
              "\n",
              "  const next = steps.next(outputElement.lastPromiseValue);\n",
              "  return Promise.resolve(next.value.promise).then((value) => {\n",
              "    // Cache the last promise value to make it available to the next\n",
              "    // step of the generator.\n",
              "    outputElement.lastPromiseValue = value;\n",
              "    return next.value.response;\n",
              "  });\n",
              "}\n",
              "\n",
              "/**\n",
              " * Generator function which is called between each async step of the upload\n",
              " * process.\n",
              " * @param {string} inputId Element ID of the input file picker element.\n",
              " * @param {string} outputId Element ID of the output display.\n",
              " * @return {!Iterable<!Object>} Iterable of next steps.\n",
              " */\n",
              "function* uploadFilesStep(inputId, outputId) {\n",
              "  const inputElement = document.getElementById(inputId);\n",
              "  inputElement.disabled = false;\n",
              "\n",
              "  const outputElement = document.getElementById(outputId);\n",
              "  outputElement.innerHTML = '';\n",
              "\n",
              "  const pickedPromise = new Promise((resolve) => {\n",
              "    inputElement.addEventListener('change', (e) => {\n",
              "      resolve(e.target.files);\n",
              "    });\n",
              "  });\n",
              "\n",
              "  const cancel = document.createElement('button');\n",
              "  inputElement.parentElement.appendChild(cancel);\n",
              "  cancel.textContent = 'Cancel upload';\n",
              "  const cancelPromise = new Promise((resolve) => {\n",
              "    cancel.onclick = () => {\n",
              "      resolve(null);\n",
              "    };\n",
              "  });\n",
              "\n",
              "  // Wait for the user to pick the files.\n",
              "  const files = yield {\n",
              "    promise: Promise.race([pickedPromise, cancelPromise]),\n",
              "    response: {\n",
              "      action: 'starting',\n",
              "    }\n",
              "  };\n",
              "\n",
              "  cancel.remove();\n",
              "\n",
              "  // Disable the input element since further picks are not allowed.\n",
              "  inputElement.disabled = true;\n",
              "\n",
              "  if (!files) {\n",
              "    return {\n",
              "      response: {\n",
              "        action: 'complete',\n",
              "      }\n",
              "    };\n",
              "  }\n",
              "\n",
              "  for (const file of files) {\n",
              "    const li = document.createElement('li');\n",
              "    li.append(span(file.name, {fontWeight: 'bold'}));\n",
              "    li.append(span(\n",
              "        `(${file.type || 'n/a'}) - ${file.size} bytes, ` +\n",
              "        `last modified: ${\n",
              "            file.lastModifiedDate ? file.lastModifiedDate.toLocaleDateString() :\n",
              "                                    'n/a'} - `));\n",
              "    const percent = span('0% done');\n",
              "    li.appendChild(percent);\n",
              "\n",
              "    outputElement.appendChild(li);\n",
              "\n",
              "    const fileDataPromise = new Promise((resolve) => {\n",
              "      const reader = new FileReader();\n",
              "      reader.onload = (e) => {\n",
              "        resolve(e.target.result);\n",
              "      };\n",
              "      reader.readAsArrayBuffer(file);\n",
              "    });\n",
              "    // Wait for the data to be ready.\n",
              "    let fileData = yield {\n",
              "      promise: fileDataPromise,\n",
              "      response: {\n",
              "        action: 'continue',\n",
              "      }\n",
              "    };\n",
              "\n",
              "    // Use a chunked sending to avoid message size limits. See b/62115660.\n",
              "    let position = 0;\n",
              "    do {\n",
              "      const length = Math.min(fileData.byteLength - position, MAX_PAYLOAD_SIZE);\n",
              "      const chunk = new Uint8Array(fileData, position, length);\n",
              "      position += length;\n",
              "\n",
              "      const base64 = btoa(String.fromCharCode.apply(null, chunk));\n",
              "      yield {\n",
              "        response: {\n",
              "          action: 'append',\n",
              "          file: file.name,\n",
              "          data: base64,\n",
              "        },\n",
              "      };\n",
              "\n",
              "      let percentDone = fileData.byteLength === 0 ?\n",
              "          100 :\n",
              "          Math.round((position / fileData.byteLength) * 100);\n",
              "      percent.textContent = `${percentDone}% done`;\n",
              "\n",
              "    } while (position < fileData.byteLength);\n",
              "  }\n",
              "\n",
              "  // All done.\n",
              "  yield {\n",
              "    response: {\n",
              "      action: 'complete',\n",
              "    }\n",
              "  };\n",
              "}\n",
              "\n",
              "scope.google = scope.google || {};\n",
              "scope.google.colab = scope.google.colab || {};\n",
              "scope.google.colab._files = {\n",
              "  _uploadFiles,\n",
              "  _uploadFilesContinue,\n",
              "};\n",
              "})(self);\n",
              "</script> "
            ]
          },
          "metadata": {}
        },
        {
          "output_type": "stream",
          "name": "stdout",
          "text": [
            "Saving usps.h5 to usps.h5\n",
            "Uploaded file: usps.h5\n",
            "Combined dataset shape: (9298, 256) (9298,)\n"
          ]
        },
        {
          "output_type": "display_data",
          "data": {
            "text/plain": [
              "<Figure size 2000x400 with 20 Axes>"
            ],
            "image/png": "[encoded data removed]"
          },
          "metadata": {}
        },
        {
          "output_type": "stream",
          "name": "stdout",
          "text": [
            "Train shape: (800, 256) (800,)\n",
            "Test shape: (200, 256) (200,)\n",
            "✅ Spark DataFrames created\n",
            "+-----+--------------------+\n",
            "|label|            features|\n",
            "+-----+--------------------+\n",
            "|    0|[-0.0818867608904...|\n",
            "|    9|[-0.0818867608904...|\n",
            "|    5|[-0.0818867608904...|\n",
            "|    8|[-0.0818867608904...|\n",
            "|    6|[-0.0818867608904...|\n",
            "+-----+--------------------+\n",
            "only showing top 5 rows\n",
            "\n"
          ]
        },
        {
          "output_type": "stream",
          "name": "stderr",
          "text": [
            "/usr/local/lib/python3.12/dist-packages/xgboost/training.py:183: UserWarning: [12:01:32] WARNING: /workspace/src/learner.cc:738: \n",
            "Parameters: { \"use_label_encoder\" } are not used.\n",
            "\n",
            "  bst.update(dtrain, iteration=i, fobj=obj)\n"
          ]
        },
        {
          "output_type": "stream",
          "name": "stdout",
          "text": [
            "✅ XGBoost Classification Accuracy: 90.50%\n"
          ]
        },
        {
          "output_type": "display_data",
          "data": {
            "text/plain": [
              "<Figure size 800x600 with 2 Axes>"
            ],
            "image/png": "[encoded data removed]"
          },
          "metadata": {}
        },
        {
          "output_type": "stream",
          "name": "stdout",
          "text": [
            "✅ Raw sample saved as 'usps_sample_raw.npz'\n",
            "✅ Processed sample saved as 'usps_sample_processed_xgb.npz'\n",
            "First 20 predicted labels: [9 8 3 7 7 4 5 7 2 4 6 3 7 1 7 6 9 3 3 9]\n",
            "First 20 true labels:      [9 8 3 7 7 5 5 7 2 6 4 3 7 1 7 6 9 3 5 9]\n"
          ]
        }
      ]
    },
    {
      "cell_type": "code",
      "source": [],
      "metadata": {
        "id": "t0rgxHTHflQ5"
      },
      "execution_count": null,
      "outputs": []
    }
  ]
}